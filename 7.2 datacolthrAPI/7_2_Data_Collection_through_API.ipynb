{
  "nbformat": 4,
  "nbformat_minor": 0,
  "metadata": {
    "colab": {
      "provenance": []
    },
    "kernelspec": {
      "name": "python3",
      "display_name": "Python 3"
    },
    "language_info": {
      "name": "python"
    }
  },
  "cells": [
    {
      "cell_type": "markdown",
      "source": [
        "**CALAMBA, LIAM FRANCIS N.**\n",
        "\n",
        "**CPE22S3 - CPE311**\n",
        "\n",
        "**13/03/2024**"
      ],
      "metadata": {
        "id": "DmBS4S4pXFoj"
      }
    },
    {
      "cell_type": "markdown",
      "source": [
        "# Collecting temperature data from an API\n",
        "**About the data**\n",
        "\n",
        "\n",
        "In this notebook, we will be collecting daily temperature data from the National Centers for Environmental Information (NCEI) API. We will use the Global Historical Climatology\n",
        "Network - Daily (GHCND) data set; see the documentation here.\n",
        "Note: The NCEI is part of the National Oceanic and Atmospheric Administration (NOAA) and, as you can see from the URL for the API, this resource was created when the\n",
        "NCEI was called the NCDC. Should the URL for this resource change in the future, you can search for the NCEI weather API to find the updated one.\n"
      ],
      "metadata": {
        "id": "DR_me_T8XnT6"
      }
    },
    {
      "cell_type": "markdown",
      "source": [
        "**Using the NCEI API**\n",
        "paste token below"
      ],
      "metadata": {
        "id": "KvK8sS6CXsrK"
      }
    },
    {
      "cell_type": "code",
      "execution_count": 75,
      "metadata": {
        "id": "VPXbYAAyIvbP"
      },
      "outputs": [],
      "source": [
        "import requests\n",
        "def make_request(endpoint, payload=None):\n",
        "\n",
        " return requests.get(\n",
        " f'https://www.ncdc.noaa.gov/cdo-web/api/v2/{endpoint}',\n",
        " headers={\n",
        " 'token': 'COGqDwKIRDvdlxMHVhxgqTsoJqtCoAfz'\n",
        " },\n",
        " params=payload\n",
        " )"
      ]
    },
    {
      "cell_type": "markdown",
      "source": [
        "**See what datasets are available**\n",
        "\n",
        "We can make requests to the datasets endpoint to see what datasets are available. We also pass in a dictionary for the payload to get datsets that have data after the start\n",
        "date of October 1, 2018."
      ],
      "metadata": {
        "id": "pvUJcPKHYNnh"
      }
    },
    {
      "cell_type": "code",
      "source": [
        "response = make_request('datasets', {'startdate':'2018-10-01'})\n",
        "response.status_code #200 = okay :D"
      ],
      "metadata": {
        "colab": {
          "base_uri": "https://localhost:8080/"
        },
        "id": "1NDJJhxjLSBM",
        "outputId": "c2af2fb0-3055-4da8-b13f-bff33a176861"
      },
      "execution_count": 76,
      "outputs": [
        {
          "output_type": "execute_result",
          "data": {
            "text/plain": [
              "200"
            ]
          },
          "metadata": {},
          "execution_count": 76
        }
      ]
    },
    {
      "cell_type": "markdown",
      "source": [
        "**Get the keys of the result**\n",
        "\n",
        "The result is a JSON object which we can access with the json() method of our Response object. JSON objects can be treated like dictionaries, so we can access the\n",
        "keys() just like we would a dictionary:"
      ],
      "metadata": {
        "id": "Vgx_JA4XYYWo"
      }
    },
    {
      "cell_type": "code",
      "source": [
        "response.json().keys()"
      ],
      "metadata": {
        "colab": {
          "base_uri": "https://localhost:8080/"
        },
        "id": "jg9Xj6S6Lmtl",
        "outputId": "04d0dc37-7abd-473f-8dec-87adb17e08f0"
      },
      "execution_count": 77,
      "outputs": [
        {
          "output_type": "execute_result",
          "data": {
            "text/plain": [
              "dict_keys(['metadata', 'results'])"
            ]
          },
          "metadata": {},
          "execution_count": 77
        }
      ]
    },
    {
      "cell_type": "code",
      "source": [
        "response.json()['metadata']"
      ],
      "metadata": {
        "colab": {
          "base_uri": "https://localhost:8080/"
        },
        "id": "65CFQHxvLpRN",
        "outputId": "ab376a1d-2c22-442b-962a-2bac89491f56"
      },
      "execution_count": 78,
      "outputs": [
        {
          "output_type": "execute_result",
          "data": {
            "text/plain": [
              "{'resultset': {'offset': 1, 'count': 11, 'limit': 25}}"
            ]
          },
          "metadata": {},
          "execution_count": 78
        }
      ]
    },
    {
      "cell_type": "markdown",
      "source": [
        "**Figure out what data is in the result**\n",
        "\n",
        "The results key contains the data we requested. This is a list of what would be rows in our dataframe. Each entry in the list is a dictionary, so we can look at the keys to get\n",
        "the fields:"
      ],
      "metadata": {
        "id": "u_NC_eZVYh54"
      }
    },
    {
      "cell_type": "code",
      "source": [
        "response.json()['results'][0].keys()"
      ],
      "metadata": {
        "colab": {
          "base_uri": "https://localhost:8080/"
        },
        "id": "iQ_Cm3vlLzXU",
        "outputId": "a97954f1-f976-4114-95e2-5f0c074b6182"
      },
      "execution_count": 79,
      "outputs": [
        {
          "output_type": "execute_result",
          "data": {
            "text/plain": [
              "dict_keys(['uid', 'mindate', 'maxdate', 'name', 'datacoverage', 'id'])"
            ]
          },
          "metadata": {},
          "execution_count": 79
        }
      ]
    },
    {
      "cell_type": "markdown",
      "source": [
        "**Parse the result**\n",
        "\n",
        "We don't want all those fields, so we will use a list comphrension to take only the id and name fields out:"
      ],
      "metadata": {
        "id": "5i53i_eNYrZx"
      }
    },
    {
      "cell_type": "code",
      "source": [
        "[(data['id'],data['name']) for data in response.json()['results']]"
      ],
      "metadata": {
        "colab": {
          "base_uri": "https://localhost:8080/"
        },
        "id": "WnpZEHGOL6mN",
        "outputId": "a97a9b6f-173e-4bc4-e1b3-59504fdce39b"
      },
      "execution_count": 80,
      "outputs": [
        {
          "output_type": "execute_result",
          "data": {
            "text/plain": [
              "[('GHCND', 'Daily Summaries'),\n",
              " ('GSOM', 'Global Summary of the Month'),\n",
              " ('GSOY', 'Global Summary of the Year'),\n",
              " ('NEXRAD2', 'Weather Radar (Level II)'),\n",
              " ('NEXRAD3', 'Weather Radar (Level III)'),\n",
              " ('NORMAL_ANN', 'Normals Annual/Seasonal'),\n",
              " ('NORMAL_DLY', 'Normals Daily'),\n",
              " ('NORMAL_HLY', 'Normals Hourly'),\n",
              " ('NORMAL_MLY', 'Normals Monthly'),\n",
              " ('PRECIP_15', 'Precipitation 15 Minute'),\n",
              " ('PRECIP_HLY', 'Precipitation Hourly')]"
            ]
          },
          "metadata": {},
          "execution_count": 80
        }
      ]
    },
    {
      "cell_type": "markdown",
      "source": [
        "**Figure out which data category we want**\n",
        "\n",
        "The GHCND data containing daily summaries is what we want. Now we need to make another request to figure out which data categories we want to collect. This is the\n",
        "datacategories endpoint. We have to pass the datasetid for GHCND as the payload so the API knows which dataset we are asking about:"
      ],
      "metadata": {
        "id": "xlDkKOEoYv8I"
      }
    },
    {
      "cell_type": "code",
      "source": [
        "response = make_request(\n",
        "    'datacategories',\n",
        "    payload={\n",
        "        'datasetid' : 'GHCND'\n",
        "    }\n",
        ")\n",
        "response.status_code"
      ],
      "metadata": {
        "colab": {
          "base_uri": "https://localhost:8080/"
        },
        "id": "aLArnvqqMNZc",
        "outputId": "730d690c-83c9-4184-f1f9-0e1ad7856559"
      },
      "execution_count": 81,
      "outputs": [
        {
          "output_type": "execute_result",
          "data": {
            "text/plain": [
              "200"
            ]
          },
          "metadata": {},
          "execution_count": 81
        }
      ]
    },
    {
      "cell_type": "markdown",
      "source": [
        "Since we know the API gives us a metadata and a results key in each response, we can see what is in the results portion of the JSON response:"
      ],
      "metadata": {
        "id": "GnPRTZpoY1mo"
      }
    },
    {
      "cell_type": "code",
      "source": [
        "response.json()['results']"
      ],
      "metadata": {
        "colab": {
          "base_uri": "https://localhost:8080/"
        },
        "id": "RMPrketEMfR0",
        "outputId": "2f5c7bad-a2e7-4dc4-9c0b-f39a30719463"
      },
      "execution_count": 82,
      "outputs": [
        {
          "output_type": "execute_result",
          "data": {
            "text/plain": [
              "[{'name': 'Evaporation', 'id': 'EVAP'},\n",
              " {'name': 'Land', 'id': 'LAND'},\n",
              " {'name': 'Precipitation', 'id': 'PRCP'},\n",
              " {'name': 'Sky cover & clouds', 'id': 'SKY'},\n",
              " {'name': 'Sunshine', 'id': 'SUN'},\n",
              " {'name': 'Air Temperature', 'id': 'TEMP'},\n",
              " {'name': 'Water', 'id': 'WATER'},\n",
              " {'name': 'Wind', 'id': 'WIND'},\n",
              " {'name': 'Weather Type', 'id': 'WXTYPE'}]"
            ]
          },
          "metadata": {},
          "execution_count": 82
        }
      ]
    },
    {
      "cell_type": "markdown",
      "source": [
        "**Grab the data type ID for the Temperature category**\n",
        "\n",
        "We will be working with temperatures, so we want the TEMP data category. Now, we need to find the datatypes to collect. For this, we use the datatypes endpoint and\n",
        "provide the datacategoryid which was TEMP . We also specify a limit for the number of datatypes to return with the payload. If there are more than this we can make\n",
        "another request later, but for now, we just want to pick a few out:"
      ],
      "metadata": {
        "id": "YN2tAV0iY8Oo"
      }
    },
    {
      "cell_type": "code",
      "source": [
        "response = make_request(\n",
        "    'datatypes',\n",
        "    payload={\n",
        "        'datacategoryid' : 'TEMP',\n",
        "        'limit' : 100\n",
        "    }\n",
        ")\n",
        "response.status_code"
      ],
      "metadata": {
        "colab": {
          "base_uri": "https://localhost:8080/"
        },
        "id": "eWEJQ-nuMmVT",
        "outputId": "a709c697-e561-405f-dcc6-99e996d09f4a"
      },
      "execution_count": 83,
      "outputs": [
        {
          "output_type": "execute_result",
          "data": {
            "text/plain": [
              "200"
            ]
          },
          "metadata": {},
          "execution_count": 83
        }
      ]
    },
    {
      "cell_type": "markdown",
      "source": [
        "We can grab the id and name fields for each of the entries in the results portion of the data. The fields we are interested in are at the bottom:"
      ],
      "metadata": {
        "id": "oLGQFgYjZAtY"
      }
    },
    {
      "cell_type": "code",
      "source": [
        "[(datatype['id'],datatype['name']) for datatype in response.json()['results']][-5:]"
      ],
      "metadata": {
        "colab": {
          "base_uri": "https://localhost:8080/"
        },
        "id": "GWx708prM3rk",
        "outputId": "dd316dc9-bbaf-4624-f68c-af6047ee0431"
      },
      "execution_count": 84,
      "outputs": [
        {
          "output_type": "execute_result",
          "data": {
            "text/plain": [
              "[('MNTM', 'Monthly mean temperature'),\n",
              " ('TAVG', 'Average Temperature.'),\n",
              " ('TMAX', 'Maximum temperature'),\n",
              " ('TMIN', 'Minimum temperature'),\n",
              " ('TOBS', 'Temperature at the time of observation')]"
            ]
          },
          "metadata": {},
          "execution_count": 84
        }
      ]
    },
    {
      "cell_type": "markdown",
      "source": [
        "**Determine which Location Category we want**\n",
        "\n",
        "Now that we know which datatypes we will be collecting, we need to find the location to use. First, we need to figure out the location category. This is obtained from the\n",
        "locationcategories endpoint by passing the datasetid :"
      ],
      "metadata": {
        "id": "Dox8FQeAZEqQ"
      }
    },
    {
      "cell_type": "code",
      "source": [
        "response = make_request(\n",
        "    'locationcategories',\n",
        "    {\n",
        "        'dataset' : 'GHCND'\n",
        "    }\n",
        ")\n",
        "response.status_code"
      ],
      "metadata": {
        "colab": {
          "base_uri": "https://localhost:8080/"
        },
        "id": "w-tVf2KhNLcz",
        "outputId": "56028a85-138b-4ce6-a0d0-de4cc9feaa0e"
      },
      "execution_count": 85,
      "outputs": [
        {
          "output_type": "execute_result",
          "data": {
            "text/plain": [
              "200"
            ]
          },
          "metadata": {},
          "execution_count": 85
        }
      ]
    },
    {
      "cell_type": "markdown",
      "source": [
        "We can use pprint to print dictionaries in an easier-to-read format. After doing so, we can see there are 12 different location categories, but we are only interested in\n",
        "CITY :"
      ],
      "metadata": {
        "id": "wIShaqIFZRgQ"
      }
    },
    {
      "cell_type": "code",
      "source": [
        "import pprint as pp\n",
        "pp.pprint(response.json())"
      ],
      "metadata": {
        "colab": {
          "base_uri": "https://localhost:8080/"
        },
        "id": "XwDIAqTdNnW0",
        "outputId": "79c630be-d3d6-4577-9a4b-944d1c87cbf7"
      },
      "execution_count": 86,
      "outputs": [
        {
          "output_type": "stream",
          "name": "stdout",
          "text": [
            "{'metadata': {'resultset': {'count': 12, 'limit': 25, 'offset': 1}},\n",
            " 'results': [{'id': 'CITY', 'name': 'City'},\n",
            "             {'id': 'CLIM_DIV', 'name': 'Climate Division'},\n",
            "             {'id': 'CLIM_REG', 'name': 'Climate Region'},\n",
            "             {'id': 'CNTRY', 'name': 'Country'},\n",
            "             {'id': 'CNTY', 'name': 'County'},\n",
            "             {'id': 'HYD_ACC', 'name': 'Hydrologic Accounting Unit'},\n",
            "             {'id': 'HYD_CAT', 'name': 'Hydrologic Cataloging Unit'},\n",
            "             {'id': 'HYD_REG', 'name': 'Hydrologic Region'},\n",
            "             {'id': 'HYD_SUB', 'name': 'Hydrologic Subregion'},\n",
            "             {'id': 'ST', 'name': 'State'},\n",
            "             {'id': 'US_TERR', 'name': 'US Territory'},\n",
            "             {'id': 'ZIP', 'name': 'Zip Code'}]}\n"
          ]
        }
      ]
    },
    {
      "cell_type": "markdown",
      "source": [
        "**Get NYC Location ID**\n",
        "\n",
        "In order to find the location ID for New York, we need to search through all the cities available. Since we can ask the API to return the cities sorted, we can use binary search\n",
        "to find New York quickly without having to make many requests or request lots of data at once. The following function makes the first request to see how big the list of cities\n",
        "is and looks at the first value. From there it decides if it needs to move towards the beginning or end of the list by comparing the city we are looking for to others\n",
        "alphabetically. Each time it makes a request it can rule out half of the remaining data to search.\n"
      ],
      "metadata": {
        "id": "xvJa0ojeZdYX"
      }
    },
    {
      "cell_type": "code",
      "source": [
        "'''di gumana ↓↓↓'''\n",
        "\n",
        "# def get_item(name, what, endpoint, start=1, end=None):\n",
        "#   mid = (start + (end if end else 1)) // 2\n",
        "#   name = name.lower()\n",
        "#   payload = {\n",
        "#       'dataset' : 'GHCND',\n",
        "#       'sortfield' : 'name',\n",
        "#       'offset' : mid,\n",
        "#       'limit' : 1\n",
        "#   }\n",
        "\n",
        "#   response = make_request(endpoint, {**payload, **what})\n",
        "\n",
        "#   if response.ok:\n",
        "#     end = end if end else response.json()['metadata']['resultset']['count']\n",
        "#     current_name = response.json()['results'][0]['name'].lower()\n",
        "\n",
        "#     if name in current_name:\n",
        "#       return response.json()['results'][0]\n",
        "\n",
        "#     else:\n",
        "#       if start >=end:\n",
        "#         return{}\n",
        "#       elif name < current_name:\n",
        "#         return get_item(name,what,endpoint,start,mid - 1)\n",
        "#       elif name > current_name:\n",
        "#         return get_item(name, what, endpoint, mid + 1, end)\n",
        "\n",
        "#   else:\n",
        "#     print(f'Response not OK, status:{response.status_code}')\n",
        "\n",
        "# def get_location(name):\n",
        "\n",
        "#   return get_item(name, {'loacationcategoryid' : 'CITY'}, 'locations')\n",
        "\n",
        "'''gomagana ↓↓↓'''\n",
        "\n",
        "def get_item(name, what, endpoint, start=1, end=None):\n",
        " \"\"\"\n",
        " Grab the JSON payload for a given field by name using binary search.\n",
        " Parameters:\n",
        " - name: The item to look for.\n",
        " - what: Dictionary specifying what the item in `name` is.\n",
        " - endpoint: Where to look for the item.\n",
        " - start: The position to start at. We don't need to touch this, but the\n",
        " function will manipulate this with recursion.\n",
        " - end: The last position of the cities. Used to find the midpoint, but\n",
        " like `start` this is not something we need to worry about.\n",
        " Returns:\n",
        " Dictionary of the information for the item if found otherwise\n",
        " an empty dictionary.\n",
        " \"\"\"\n",
        " # find the midpoint which we use to cut the data in half each time\n",
        " mid = (start + (end if end else 1)) // 2\n",
        "\n",
        " # lowercase the name so this is not case-sensitive\n",
        " name = name.lower()\n",
        "\n",
        " # define the payload we will send with each request\n",
        " payload = {\n",
        " 'datasetid' : 'GHCND',\n",
        " 'sortfield' : 'name',\n",
        " 'offset' : mid, # we will change the offset each time\n",
        " 'limit' : 1 # we only want one value back\n",
        " }\n",
        "\n",
        " # make our request adding any additional filter parameters from `what`\n",
        " response = make_request(endpoint, {**payload, **what})\n",
        "\n",
        " if response.ok:\n",
        " # if response is ok, grab the end index from the response metadata the first time through\n",
        "    end = end if end else response.json()['metadata']['resultset']['count']\n",
        "\n",
        " # grab the lowercase version of the current name\n",
        "    current_name = response.json()['results'][0]['name'].lower()\n",
        "\n",
        " # if what we are searching for is in the current name, we have found our item\n",
        " if name in current_name:\n",
        "     return response.json()['results'][0] # return the found item\n",
        " else:\n",
        "  if start >= end:\n",
        " # if our start index is greater than or equal to our end, we couldn't find it\n",
        "   return {}\n",
        "  elif name < current_name:\n",
        " # our name comes before the current name in the alphabet, so we search further to the left\n",
        "   return get_item(name, what, endpoint, start, mid - 1)\n",
        "  elif name > current_name:\n",
        " # our name comes after the current name in the alphabet, so we search further to the right\n",
        "   return get_item(name, what, endpoint, mid + 1, end)\n",
        "  else:\n",
        " # response wasn't ok, use code to determine why\n",
        "   print(f'Response not OK, status: {response.status_code}')\n",
        "def get_location(name):\n",
        " \"\"\"\n",
        " Grab the JSON payload for the location by name using binary search.\n",
        " Parameters:\n",
        " - name: The city to look for.\n",
        " Returns:\n",
        " Dictionary of the information for the city if found otherwise\n",
        " an empty dictionary.\n",
        " \"\"\"\n",
        " return get_item(name, {'locationcategoryid' : 'CITY'}, 'locations')"
      ],
      "metadata": {
        "id": "ZR2qiEAJNxej"
      },
      "execution_count": 87,
      "outputs": []
    },
    {
      "cell_type": "markdown",
      "source": [
        "When we use binary search to find New York, we find it in just 8 requests despite it being close to the middle of 1,983 entries:\n"
      ],
      "metadata": {
        "id": "mhee6kDYZjBw"
      }
    },
    {
      "cell_type": "code",
      "source": [
        "nyc = get_location('New York')\n",
        "nyc"
      ],
      "metadata": {
        "colab": {
          "base_uri": "https://localhost:8080/"
        },
        "id": "BwCMDDlLQUBJ",
        "outputId": "bd400cd2-3c07-4641-f253-5fdf7790b8c2"
      },
      "execution_count": 88,
      "outputs": [
        {
          "output_type": "execute_result",
          "data": {
            "text/plain": [
              "{'mindate': '1869-01-01',\n",
              " 'maxdate': '2024-03-11',\n",
              " 'name': 'New York, NY US',\n",
              " 'datacoverage': 1,\n",
              " 'id': 'CITY:US360019'}"
            ]
          },
          "metadata": {},
          "execution_count": 88
        }
      ]
    },
    {
      "cell_type": "code",
      "source": [
        "'''try other places'''\n",
        "\n",
        "manhat = get_location('Manhattan')\n",
        "manhat"
      ],
      "metadata": {
        "colab": {
          "base_uri": "https://localhost:8080/"
        },
        "id": "d9LcdlxObcHX",
        "outputId": "f94260ab-8f70-400a-89da-47f73619a70f"
      },
      "execution_count": 89,
      "outputs": [
        {
          "output_type": "execute_result",
          "data": {
            "text/plain": [
              "{'mindate': '1893-01-01',\n",
              " 'maxdate': '2024-03-11',\n",
              " 'name': 'Manhattan, KS US',\n",
              " 'datacoverage': 1,\n",
              " 'id': 'CITY:US200011'}"
            ]
          },
          "metadata": {},
          "execution_count": 89
        }
      ]
    },
    {
      "cell_type": "code",
      "source": [
        "'''try 2'''\n",
        "\n",
        "mnl = get_location('Manila')\n",
        "mnl"
      ],
      "metadata": {
        "colab": {
          "base_uri": "https://localhost:8080/"
        },
        "id": "6FR7vODacCGn",
        "outputId": "51695baa-1059-457c-8947-156afbf153e2"
      },
      "execution_count": 90,
      "outputs": [
        {
          "output_type": "execute_result",
          "data": {
            "text/plain": [
              "{'mindate': '1945-03-01',\n",
              " 'maxdate': '2024-03-10',\n",
              " 'name': 'Manila, RP',\n",
              " 'datacoverage': 1,\n",
              " 'id': 'CITY:RP000002'}"
            ]
          },
          "metadata": {},
          "execution_count": 90
        }
      ]
    },
    {
      "cell_type": "code",
      "source": [
        "'''try 3'''\n",
        "\n",
        "tky = get_location('Tokyo')\n",
        "tky"
      ],
      "metadata": {
        "colab": {
          "base_uri": "https://localhost:8080/"
        },
        "id": "yabrn5tAeHnW",
        "outputId": "9669553a-1902-49eb-b66d-5a556056c5bd"
      },
      "execution_count": 91,
      "outputs": [
        {
          "output_type": "execute_result",
          "data": {
            "text/plain": [
              "{'mindate': '1949-01-01',\n",
              " 'maxdate': '2024-03-10',\n",
              " 'name': 'Tokyo, JA',\n",
              " 'datacoverage': 1,\n",
              " 'id': 'CITY:JA000016'}"
            ]
          },
          "metadata": {},
          "execution_count": 91
        }
      ]
    },
    {
      "cell_type": "markdown",
      "source": [
        "**Get the station ID for Central Park**\n",
        "\n",
        "The most granular data is found at the station level:"
      ],
      "metadata": {
        "id": "DDN5Oi9XZkR3"
      }
    },
    {
      "cell_type": "code",
      "source": [
        "central_park = get_item('NY City Central Park', {'locationid' : nyc['id']}, 'stations')\n",
        "central_park"
      ],
      "metadata": {
        "colab": {
          "base_uri": "https://localhost:8080/"
        },
        "id": "2WdL5UEKQapT",
        "outputId": "fe74a831-d5d4-492b-8a9a-bc7e72d2a17c"
      },
      "execution_count": 92,
      "outputs": [
        {
          "output_type": "execute_result",
          "data": {
            "text/plain": [
              "{'elevation': 42.7,\n",
              " 'mindate': '1869-01-01',\n",
              " 'maxdate': '2024-03-10',\n",
              " 'latitude': 40.77898,\n",
              " 'name': 'NY CITY CENTRAL PARK, NY US',\n",
              " 'datacoverage': 1,\n",
              " 'id': 'GHCND:USW00094728',\n",
              " 'elevationUnit': 'METERS',\n",
              " 'longitude': -73.96925}"
            ]
          },
          "metadata": {},
          "execution_count": 92
        }
      ]
    },
    {
      "cell_type": "markdown",
      "source": [
        "**Request the temperature data**\n",
        "\n",
        "Finally, we have everything we need to make our request for the New York temperature data. For this we use the data endpoint and provide all the parameters we picked up\n",
        "throughout our exploration of the API:"
      ],
      "metadata": {
        "id": "q2QkjqrAZ07o"
      }
    },
    {
      "cell_type": "code",
      "source": [
        "response = make_request(\n",
        "    'data',\n",
        "    {\n",
        "        'datasetid' : 'GHCND',\n",
        "        'stationid' : central_park['id'],\n",
        "        'locationid' : nyc['id'],\n",
        "        'startdate' : '2018-10-01',\n",
        "        'enddate' : '2018-10-31',\n",
        "        'datatypeid' : ['TMIN', 'TMAX', 'TOBS'],\n",
        "        'units' : 'metric',\n",
        "        'limit' : 1000\n",
        "    }\n",
        ")\n",
        "response.status_code"
      ],
      "metadata": {
        "colab": {
          "base_uri": "https://localhost:8080/"
        },
        "id": "5_ohnc0mRmRj",
        "outputId": "e12875b2-47c7-4ba9-ea66-e174ba4570fa"
      },
      "execution_count": 93,
      "outputs": [
        {
          "output_type": "execute_result",
          "data": {
            "text/plain": [
              "200"
            ]
          },
          "metadata": {},
          "execution_count": 93
        }
      ]
    },
    {
      "cell_type": "markdown",
      "source": [
        "**Create a DataFrame**\n",
        "\n",
        "The Central Park station only has the daily minimum and maximum temperatures."
      ],
      "metadata": {
        "id": "MwO8P-JsZ4UI"
      }
    },
    {
      "cell_type": "code",
      "source": [
        "import pandas as p\n",
        "\n",
        "df = p.DataFrame(response.json()['results'])\n",
        "df.head()"
      ],
      "metadata": {
        "colab": {
          "base_uri": "https://localhost:8080/",
          "height": 206
        },
        "id": "mgf5lOzaThvg",
        "outputId": "aa98ff35-a945-4b0b-e10b-c088cba1a27e"
      },
      "execution_count": 94,
      "outputs": [
        {
          "output_type": "execute_result",
          "data": {
            "text/plain": [
              "                  date datatype            station attributes  value\n",
              "0  2018-10-01T00:00:00     TMAX  GHCND:USW00094728   ,,W,2400   24.4\n",
              "1  2018-10-01T00:00:00     TMIN  GHCND:USW00094728   ,,W,2400   17.2\n",
              "2  2018-10-02T00:00:00     TMAX  GHCND:USW00094728   ,,W,2400   25.0\n",
              "3  2018-10-02T00:00:00     TMIN  GHCND:USW00094728   ,,W,2400   18.3\n",
              "4  2018-10-03T00:00:00     TMAX  GHCND:USW00094728   ,,W,2400   23.3"
            ],
            "text/html": [
              "\n",
              "  <div id=\"df-f974c89e-7dcc-48b5-a71e-e1282fdff4ce\" class=\"colab-df-container\">\n",
              "    <div>\n",
              "<style scoped>\n",
              "    .dataframe tbody tr th:only-of-type {\n",
              "        vertical-align: middle;\n",
              "    }\n",
              "\n",
              "    .dataframe tbody tr th {\n",
              "        vertical-align: top;\n",
              "    }\n",
              "\n",
              "    .dataframe thead th {\n",
              "        text-align: right;\n",
              "    }\n",
              "</style>\n",
              "<table border=\"1\" class=\"dataframe\">\n",
              "  <thead>\n",
              "    <tr style=\"text-align: right;\">\n",
              "      <th></th>\n",
              "      <th>date</th>\n",
              "      <th>datatype</th>\n",
              "      <th>station</th>\n",
              "      <th>attributes</th>\n",
              "      <th>value</th>\n",
              "    </tr>\n",
              "  </thead>\n",
              "  <tbody>\n",
              "    <tr>\n",
              "      <th>0</th>\n",
              "      <td>2018-10-01T00:00:00</td>\n",
              "      <td>TMAX</td>\n",
              "      <td>GHCND:USW00094728</td>\n",
              "      <td>,,W,2400</td>\n",
              "      <td>24.4</td>\n",
              "    </tr>\n",
              "    <tr>\n",
              "      <th>1</th>\n",
              "      <td>2018-10-01T00:00:00</td>\n",
              "      <td>TMIN</td>\n",
              "      <td>GHCND:USW00094728</td>\n",
              "      <td>,,W,2400</td>\n",
              "      <td>17.2</td>\n",
              "    </tr>\n",
              "    <tr>\n",
              "      <th>2</th>\n",
              "      <td>2018-10-02T00:00:00</td>\n",
              "      <td>TMAX</td>\n",
              "      <td>GHCND:USW00094728</td>\n",
              "      <td>,,W,2400</td>\n",
              "      <td>25.0</td>\n",
              "    </tr>\n",
              "    <tr>\n",
              "      <th>3</th>\n",
              "      <td>2018-10-02T00:00:00</td>\n",
              "      <td>TMIN</td>\n",
              "      <td>GHCND:USW00094728</td>\n",
              "      <td>,,W,2400</td>\n",
              "      <td>18.3</td>\n",
              "    </tr>\n",
              "    <tr>\n",
              "      <th>4</th>\n",
              "      <td>2018-10-03T00:00:00</td>\n",
              "      <td>TMAX</td>\n",
              "      <td>GHCND:USW00094728</td>\n",
              "      <td>,,W,2400</td>\n",
              "      <td>23.3</td>\n",
              "    </tr>\n",
              "  </tbody>\n",
              "</table>\n",
              "</div>\n",
              "    <div class=\"colab-df-buttons\">\n",
              "\n",
              "  <div class=\"colab-df-container\">\n",
              "    <button class=\"colab-df-convert\" onclick=\"convertToInteractive('df-f974c89e-7dcc-48b5-a71e-e1282fdff4ce')\"\n",
              "            title=\"Convert this dataframe to an interactive table.\"\n",
              "            style=\"display:none;\">\n",
              "\n",
              "  <svg xmlns=\"http://www.w3.org/2000/svg\" height=\"24px\" viewBox=\"0 -960 960 960\">\n",
              "    <path d=\"M120-120v-720h720v720H120Zm60-500h600v-160H180v160Zm220 220h160v-160H400v160Zm0 220h160v-160H400v160ZM180-400h160v-160H180v160Zm440 0h160v-160H620v160ZM180-180h160v-160H180v160Zm440 0h160v-160H620v160Z\"/>\n",
              "  </svg>\n",
              "    </button>\n",
              "\n",
              "  <style>\n",
              "    .colab-df-container {\n",
              "      display:flex;\n",
              "      gap: 12px;\n",
              "    }\n",
              "\n",
              "    .colab-df-convert {\n",
              "      background-color: #E8F0FE;\n",
              "      border: none;\n",
              "      border-radius: 50%;\n",
              "      cursor: pointer;\n",
              "      display: none;\n",
              "      fill: #1967D2;\n",
              "      height: 32px;\n",
              "      padding: 0 0 0 0;\n",
              "      width: 32px;\n",
              "    }\n",
              "\n",
              "    .colab-df-convert:hover {\n",
              "      background-color: #E2EBFA;\n",
              "      box-shadow: 0px 1px 2px rgba(60, 64, 67, 0.3), 0px 1px 3px 1px rgba(60, 64, 67, 0.15);\n",
              "      fill: #174EA6;\n",
              "    }\n",
              "\n",
              "    .colab-df-buttons div {\n",
              "      margin-bottom: 4px;\n",
              "    }\n",
              "\n",
              "    [theme=dark] .colab-df-convert {\n",
              "      background-color: #3B4455;\n",
              "      fill: #D2E3FC;\n",
              "    }\n",
              "\n",
              "    [theme=dark] .colab-df-convert:hover {\n",
              "      background-color: #434B5C;\n",
              "      box-shadow: 0px 1px 3px 1px rgba(0, 0, 0, 0.15);\n",
              "      filter: drop-shadow(0px 1px 2px rgba(0, 0, 0, 0.3));\n",
              "      fill: #FFFFFF;\n",
              "    }\n",
              "  </style>\n",
              "\n",
              "    <script>\n",
              "      const buttonEl =\n",
              "        document.querySelector('#df-f974c89e-7dcc-48b5-a71e-e1282fdff4ce button.colab-df-convert');\n",
              "      buttonEl.style.display =\n",
              "        google.colab.kernel.accessAllowed ? 'block' : 'none';\n",
              "\n",
              "      async function convertToInteractive(key) {\n",
              "        const element = document.querySelector('#df-f974c89e-7dcc-48b5-a71e-e1282fdff4ce');\n",
              "        const dataTable =\n",
              "          await google.colab.kernel.invokeFunction('convertToInteractive',\n",
              "                                                    [key], {});\n",
              "        if (!dataTable) return;\n",
              "\n",
              "        const docLinkHtml = 'Like what you see? Visit the ' +\n",
              "          '<a target=\"_blank\" href=https://colab.research.google.com/notebooks/data_table.ipynb>data table notebook</a>'\n",
              "          + ' to learn more about interactive tables.';\n",
              "        element.innerHTML = '';\n",
              "        dataTable['output_type'] = 'display_data';\n",
              "        await google.colab.output.renderOutput(dataTable, element);\n",
              "        const docLink = document.createElement('div');\n",
              "        docLink.innerHTML = docLinkHtml;\n",
              "        element.appendChild(docLink);\n",
              "      }\n",
              "    </script>\n",
              "  </div>\n",
              "\n",
              "\n",
              "<div id=\"df-35da6d47-715a-40b4-81f9-c08f18f3c240\">\n",
              "  <button class=\"colab-df-quickchart\" onclick=\"quickchart('df-35da6d47-715a-40b4-81f9-c08f18f3c240')\"\n",
              "            title=\"Suggest charts\"\n",
              "            style=\"display:none;\">\n",
              "\n",
              "<svg xmlns=\"http://www.w3.org/2000/svg\" height=\"24px\"viewBox=\"0 0 24 24\"\n",
              "     width=\"24px\">\n",
              "    <g>\n",
              "        <path d=\"M19 3H5c-1.1 0-2 .9-2 2v14c0 1.1.9 2 2 2h14c1.1 0 2-.9 2-2V5c0-1.1-.9-2-2-2zM9 17H7v-7h2v7zm4 0h-2V7h2v10zm4 0h-2v-4h2v4z\"/>\n",
              "    </g>\n",
              "</svg>\n",
              "  </button>\n",
              "\n",
              "<style>\n",
              "  .colab-df-quickchart {\n",
              "      --bg-color: #E8F0FE;\n",
              "      --fill-color: #1967D2;\n",
              "      --hover-bg-color: #E2EBFA;\n",
              "      --hover-fill-color: #174EA6;\n",
              "      --disabled-fill-color: #AAA;\n",
              "      --disabled-bg-color: #DDD;\n",
              "  }\n",
              "\n",
              "  [theme=dark] .colab-df-quickchart {\n",
              "      --bg-color: #3B4455;\n",
              "      --fill-color: #D2E3FC;\n",
              "      --hover-bg-color: #434B5C;\n",
              "      --hover-fill-color: #FFFFFF;\n",
              "      --disabled-bg-color: #3B4455;\n",
              "      --disabled-fill-color: #666;\n",
              "  }\n",
              "\n",
              "  .colab-df-quickchart {\n",
              "    background-color: var(--bg-color);\n",
              "    border: none;\n",
              "    border-radius: 50%;\n",
              "    cursor: pointer;\n",
              "    display: none;\n",
              "    fill: var(--fill-color);\n",
              "    height: 32px;\n",
              "    padding: 0;\n",
              "    width: 32px;\n",
              "  }\n",
              "\n",
              "  .colab-df-quickchart:hover {\n",
              "    background-color: var(--hover-bg-color);\n",
              "    box-shadow: 0 1px 2px rgba(60, 64, 67, 0.3), 0 1px 3px 1px rgba(60, 64, 67, 0.15);\n",
              "    fill: var(--button-hover-fill-color);\n",
              "  }\n",
              "\n",
              "  .colab-df-quickchart-complete:disabled,\n",
              "  .colab-df-quickchart-complete:disabled:hover {\n",
              "    background-color: var(--disabled-bg-color);\n",
              "    fill: var(--disabled-fill-color);\n",
              "    box-shadow: none;\n",
              "  }\n",
              "\n",
              "  .colab-df-spinner {\n",
              "    border: 2px solid var(--fill-color);\n",
              "    border-color: transparent;\n",
              "    border-bottom-color: var(--fill-color);\n",
              "    animation:\n",
              "      spin 1s steps(1) infinite;\n",
              "  }\n",
              "\n",
              "  @keyframes spin {\n",
              "    0% {\n",
              "      border-color: transparent;\n",
              "      border-bottom-color: var(--fill-color);\n",
              "      border-left-color: var(--fill-color);\n",
              "    }\n",
              "    20% {\n",
              "      border-color: transparent;\n",
              "      border-left-color: var(--fill-color);\n",
              "      border-top-color: var(--fill-color);\n",
              "    }\n",
              "    30% {\n",
              "      border-color: transparent;\n",
              "      border-left-color: var(--fill-color);\n",
              "      border-top-color: var(--fill-color);\n",
              "      border-right-color: var(--fill-color);\n",
              "    }\n",
              "    40% {\n",
              "      border-color: transparent;\n",
              "      border-right-color: var(--fill-color);\n",
              "      border-top-color: var(--fill-color);\n",
              "    }\n",
              "    60% {\n",
              "      border-color: transparent;\n",
              "      border-right-color: var(--fill-color);\n",
              "    }\n",
              "    80% {\n",
              "      border-color: transparent;\n",
              "      border-right-color: var(--fill-color);\n",
              "      border-bottom-color: var(--fill-color);\n",
              "    }\n",
              "    90% {\n",
              "      border-color: transparent;\n",
              "      border-bottom-color: var(--fill-color);\n",
              "    }\n",
              "  }\n",
              "</style>\n",
              "\n",
              "  <script>\n",
              "    async function quickchart(key) {\n",
              "      const quickchartButtonEl =\n",
              "        document.querySelector('#' + key + ' button');\n",
              "      quickchartButtonEl.disabled = true;  // To prevent multiple clicks.\n",
              "      quickchartButtonEl.classList.add('colab-df-spinner');\n",
              "      try {\n",
              "        const charts = await google.colab.kernel.invokeFunction(\n",
              "            'suggestCharts', [key], {});\n",
              "      } catch (error) {\n",
              "        console.error('Error during call to suggestCharts:', error);\n",
              "      }\n",
              "      quickchartButtonEl.classList.remove('colab-df-spinner');\n",
              "      quickchartButtonEl.classList.add('colab-df-quickchart-complete');\n",
              "    }\n",
              "    (() => {\n",
              "      let quickchartButtonEl =\n",
              "        document.querySelector('#df-35da6d47-715a-40b4-81f9-c08f18f3c240 button');\n",
              "      quickchartButtonEl.style.display =\n",
              "        google.colab.kernel.accessAllowed ? 'block' : 'none';\n",
              "    })();\n",
              "  </script>\n",
              "</div>\n",
              "    </div>\n",
              "  </div>\n"
            ],
            "application/vnd.google.colaboratory.intrinsic+json": {
              "type": "dataframe",
              "variable_name": "df",
              "summary": "{\n  \"name\": \"df\",\n  \"rows\": 62,\n  \"fields\": [\n    {\n      \"column\": \"date\",\n      \"properties\": {\n        \"dtype\": \"object\",\n        \"num_unique_values\": 31,\n        \"samples\": [\n          \"2018-10-28T00:00:00\",\n          \"2018-10-16T00:00:00\",\n          \"2018-10-24T00:00:00\"\n        ],\n        \"semantic_type\": \"\",\n        \"description\": \"\"\n      }\n    },\n    {\n      \"column\": \"datatype\",\n      \"properties\": {\n        \"dtype\": \"category\",\n        \"num_unique_values\": 2,\n        \"samples\": [\n          \"TMIN\",\n          \"TMAX\"\n        ],\n        \"semantic_type\": \"\",\n        \"description\": \"\"\n      }\n    },\n    {\n      \"column\": \"station\",\n      \"properties\": {\n        \"dtype\": \"category\",\n        \"num_unique_values\": 1,\n        \"samples\": [\n          \"GHCND:USW00094728\"\n        ],\n        \"semantic_type\": \"\",\n        \"description\": \"\"\n      }\n    },\n    {\n      \"column\": \"attributes\",\n      \"properties\": {\n        \"dtype\": \"category\",\n        \"num_unique_values\": 1,\n        \"samples\": [\n          \",,W,2400\"\n        ],\n        \"semantic_type\": \"\",\n        \"description\": \"\"\n      }\n    },\n    {\n      \"column\": \"value\",\n      \"properties\": {\n        \"dtype\": \"number\",\n        \"std\": 6.573912032246916,\n        \"min\": 3.3,\n        \"max\": 26.7,\n        \"num_unique_values\": 33,\n        \"samples\": [\n          7.2\n        ],\n        \"semantic_type\": \"\",\n        \"description\": \"\"\n      }\n    }\n  ]\n}"
            }
          },
          "metadata": {},
          "execution_count": 94
        }
      ]
    },
    {
      "cell_type": "markdown",
      "source": [
        "We didn't get TOBS because the station doesn't measure that:"
      ],
      "metadata": {
        "id": "EBz4NrzXaAWI"
      }
    },
    {
      "cell_type": "code",
      "source": [
        "df.datatype.unique()"
      ],
      "metadata": {
        "colab": {
          "base_uri": "https://localhost:8080/"
        },
        "id": "niObJ01AVBwh",
        "outputId": "157442f4-c133-48ac-c0c0-779f64ab8302"
      },
      "execution_count": 95,
      "outputs": [
        {
          "output_type": "execute_result",
          "data": {
            "text/plain": [
              "array(['TMAX', 'TMIN'], dtype=object)"
            ]
          },
          "metadata": {},
          "execution_count": 95
        }
      ]
    },
    {
      "cell_type": "markdown",
      "source": [
        "Despite showing up in the data as measuring it... Real-world data is dirty!"
      ],
      "metadata": {
        "id": "JU2FuERUaCVI"
      }
    },
    {
      "cell_type": "code",
      "source": [
        "if get_item(\n",
        "    'NY City Central Park', {'locationid':nyc['id'], 'datatypeid':'TOBS'},'stations'\n",
        "):\n",
        " print('Found!')"
      ],
      "metadata": {
        "colab": {
          "base_uri": "https://localhost:8080/"
        },
        "id": "4-ewZM2KVLJC",
        "outputId": "9191e953-5375-4e28-9d89-8fc1d15509d2"
      },
      "execution_count": 96,
      "outputs": [
        {
          "output_type": "stream",
          "name": "stdout",
          "text": [
            "Found!\n"
          ]
        }
      ]
    },
    {
      "cell_type": "markdown",
      "source": [
        "**Using a different station**\n",
        "\n",
        "Let's use LaGuardia airport instead. It contains TAVG (average daily temperature):\n"
      ],
      "metadata": {
        "id": "SbdQQ5R8aGAw"
      }
    },
    {
      "cell_type": "code",
      "source": [
        "laguardia = get_item(\n",
        "    'LaGuardia', {'locationid' : nyc['id']}, 'stations'\n",
        ")\n",
        "laguardia"
      ],
      "metadata": {
        "colab": {
          "base_uri": "https://localhost:8080/"
        },
        "id": "2HLgYoG7Vb2R",
        "outputId": "69bc0e27-528e-4b31-9b06-9df902b9fa99"
      },
      "execution_count": 97,
      "outputs": [
        {
          "output_type": "execute_result",
          "data": {
            "text/plain": [
              "{'elevation': 3,\n",
              " 'mindate': '1939-10-07',\n",
              " 'maxdate': '2024-03-11',\n",
              " 'latitude': 40.77945,\n",
              " 'name': 'LAGUARDIA AIRPORT, NY US',\n",
              " 'datacoverage': 1,\n",
              " 'id': 'GHCND:USW00014732',\n",
              " 'elevationUnit': 'METERS',\n",
              " 'longitude': -73.88027}"
            ]
          },
          "metadata": {},
          "execution_count": 97
        }
      ]
    },
    {
      "cell_type": "markdown",
      "source": [
        "We make our request using the LaGuardia airport station this time and ask for TAVG instead of TOBS ."
      ],
      "metadata": {
        "id": "UkT7uo96aI7w"
      }
    },
    {
      "cell_type": "code",
      "source": [
        "response = make_request(\n",
        "    'data',\n",
        "    {\n",
        "        'datasetid' : 'GHCND',\n",
        "        'stationid' : laguardia['id'],\n",
        "        'locationid' : nyc['id'],\n",
        "        'startdate' : '2018-10-01',\n",
        "        'enddate' : '2018-10-31',\n",
        "        'datatypeid' : ['TMIN', 'TMAX', 'TAVG'],\n",
        "        'units' : 'metric',\n",
        "        'limit' : 1000\n",
        "    }\n",
        ")\n",
        "response.status_code"
      ],
      "metadata": {
        "colab": {
          "base_uri": "https://localhost:8080/"
        },
        "id": "ulBV9aD1V05M",
        "outputId": "178ed526-35d3-4e50-ed0a-287927b9c85e"
      },
      "execution_count": 98,
      "outputs": [
        {
          "output_type": "execute_result",
          "data": {
            "text/plain": [
              "200"
            ]
          },
          "metadata": {},
          "execution_count": 98
        }
      ]
    },
    {
      "cell_type": "markdown",
      "source": [
        "The request was successful, so let's make a dataframe:"
      ],
      "metadata": {
        "id": "RCaqKvjRaL5Y"
      }
    },
    {
      "cell_type": "code",
      "source": [
        "df = p.DataFrame(response.json()['results'])\n",
        "df.head()"
      ],
      "metadata": {
        "colab": {
          "base_uri": "https://localhost:8080/",
          "height": 206
        },
        "id": "b8pDi5u3WMzS",
        "outputId": "53a75151-18cf-4bf3-f48c-e087958f01d7"
      },
      "execution_count": 99,
      "outputs": [
        {
          "output_type": "execute_result",
          "data": {
            "text/plain": [
              "                  date datatype            station attributes  value\n",
              "0  2018-10-01T00:00:00     TAVG  GHCND:USW00014732      H,,S,   21.2\n",
              "1  2018-10-01T00:00:00     TMAX  GHCND:USW00014732   ,,W,2400   25.6\n",
              "2  2018-10-01T00:00:00     TMIN  GHCND:USW00014732   ,,W,2400   18.3\n",
              "3  2018-10-02T00:00:00     TAVG  GHCND:USW00014732      H,,S,   22.7\n",
              "4  2018-10-02T00:00:00     TMAX  GHCND:USW00014732   ,,W,2400   26.1"
            ],
            "text/html": [
              "\n",
              "  <div id=\"df-3039cc64-64e9-44c7-9538-abf3a02571f2\" class=\"colab-df-container\">\n",
              "    <div>\n",
              "<style scoped>\n",
              "    .dataframe tbody tr th:only-of-type {\n",
              "        vertical-align: middle;\n",
              "    }\n",
              "\n",
              "    .dataframe tbody tr th {\n",
              "        vertical-align: top;\n",
              "    }\n",
              "\n",
              "    .dataframe thead th {\n",
              "        text-align: right;\n",
              "    }\n",
              "</style>\n",
              "<table border=\"1\" class=\"dataframe\">\n",
              "  <thead>\n",
              "    <tr style=\"text-align: right;\">\n",
              "      <th></th>\n",
              "      <th>date</th>\n",
              "      <th>datatype</th>\n",
              "      <th>station</th>\n",
              "      <th>attributes</th>\n",
              "      <th>value</th>\n",
              "    </tr>\n",
              "  </thead>\n",
              "  <tbody>\n",
              "    <tr>\n",
              "      <th>0</th>\n",
              "      <td>2018-10-01T00:00:00</td>\n",
              "      <td>TAVG</td>\n",
              "      <td>GHCND:USW00014732</td>\n",
              "      <td>H,,S,</td>\n",
              "      <td>21.2</td>\n",
              "    </tr>\n",
              "    <tr>\n",
              "      <th>1</th>\n",
              "      <td>2018-10-01T00:00:00</td>\n",
              "      <td>TMAX</td>\n",
              "      <td>GHCND:USW00014732</td>\n",
              "      <td>,,W,2400</td>\n",
              "      <td>25.6</td>\n",
              "    </tr>\n",
              "    <tr>\n",
              "      <th>2</th>\n",
              "      <td>2018-10-01T00:00:00</td>\n",
              "      <td>TMIN</td>\n",
              "      <td>GHCND:USW00014732</td>\n",
              "      <td>,,W,2400</td>\n",
              "      <td>18.3</td>\n",
              "    </tr>\n",
              "    <tr>\n",
              "      <th>3</th>\n",
              "      <td>2018-10-02T00:00:00</td>\n",
              "      <td>TAVG</td>\n",
              "      <td>GHCND:USW00014732</td>\n",
              "      <td>H,,S,</td>\n",
              "      <td>22.7</td>\n",
              "    </tr>\n",
              "    <tr>\n",
              "      <th>4</th>\n",
              "      <td>2018-10-02T00:00:00</td>\n",
              "      <td>TMAX</td>\n",
              "      <td>GHCND:USW00014732</td>\n",
              "      <td>,,W,2400</td>\n",
              "      <td>26.1</td>\n",
              "    </tr>\n",
              "  </tbody>\n",
              "</table>\n",
              "</div>\n",
              "    <div class=\"colab-df-buttons\">\n",
              "\n",
              "  <div class=\"colab-df-container\">\n",
              "    <button class=\"colab-df-convert\" onclick=\"convertToInteractive('df-3039cc64-64e9-44c7-9538-abf3a02571f2')\"\n",
              "            title=\"Convert this dataframe to an interactive table.\"\n",
              "            style=\"display:none;\">\n",
              "\n",
              "  <svg xmlns=\"http://www.w3.org/2000/svg\" height=\"24px\" viewBox=\"0 -960 960 960\">\n",
              "    <path d=\"M120-120v-720h720v720H120Zm60-500h600v-160H180v160Zm220 220h160v-160H400v160Zm0 220h160v-160H400v160ZM180-400h160v-160H180v160Zm440 0h160v-160H620v160ZM180-180h160v-160H180v160Zm440 0h160v-160H620v160Z\"/>\n",
              "  </svg>\n",
              "    </button>\n",
              "\n",
              "  <style>\n",
              "    .colab-df-container {\n",
              "      display:flex;\n",
              "      gap: 12px;\n",
              "    }\n",
              "\n",
              "    .colab-df-convert {\n",
              "      background-color: #E8F0FE;\n",
              "      border: none;\n",
              "      border-radius: 50%;\n",
              "      cursor: pointer;\n",
              "      display: none;\n",
              "      fill: #1967D2;\n",
              "      height: 32px;\n",
              "      padding: 0 0 0 0;\n",
              "      width: 32px;\n",
              "    }\n",
              "\n",
              "    .colab-df-convert:hover {\n",
              "      background-color: #E2EBFA;\n",
              "      box-shadow: 0px 1px 2px rgba(60, 64, 67, 0.3), 0px 1px 3px 1px rgba(60, 64, 67, 0.15);\n",
              "      fill: #174EA6;\n",
              "    }\n",
              "\n",
              "    .colab-df-buttons div {\n",
              "      margin-bottom: 4px;\n",
              "    }\n",
              "\n",
              "    [theme=dark] .colab-df-convert {\n",
              "      background-color: #3B4455;\n",
              "      fill: #D2E3FC;\n",
              "    }\n",
              "\n",
              "    [theme=dark] .colab-df-convert:hover {\n",
              "      background-color: #434B5C;\n",
              "      box-shadow: 0px 1px 3px 1px rgba(0, 0, 0, 0.15);\n",
              "      filter: drop-shadow(0px 1px 2px rgba(0, 0, 0, 0.3));\n",
              "      fill: #FFFFFF;\n",
              "    }\n",
              "  </style>\n",
              "\n",
              "    <script>\n",
              "      const buttonEl =\n",
              "        document.querySelector('#df-3039cc64-64e9-44c7-9538-abf3a02571f2 button.colab-df-convert');\n",
              "      buttonEl.style.display =\n",
              "        google.colab.kernel.accessAllowed ? 'block' : 'none';\n",
              "\n",
              "      async function convertToInteractive(key) {\n",
              "        const element = document.querySelector('#df-3039cc64-64e9-44c7-9538-abf3a02571f2');\n",
              "        const dataTable =\n",
              "          await google.colab.kernel.invokeFunction('convertToInteractive',\n",
              "                                                    [key], {});\n",
              "        if (!dataTable) return;\n",
              "\n",
              "        const docLinkHtml = 'Like what you see? Visit the ' +\n",
              "          '<a target=\"_blank\" href=https://colab.research.google.com/notebooks/data_table.ipynb>data table notebook</a>'\n",
              "          + ' to learn more about interactive tables.';\n",
              "        element.innerHTML = '';\n",
              "        dataTable['output_type'] = 'display_data';\n",
              "        await google.colab.output.renderOutput(dataTable, element);\n",
              "        const docLink = document.createElement('div');\n",
              "        docLink.innerHTML = docLinkHtml;\n",
              "        element.appendChild(docLink);\n",
              "      }\n",
              "    </script>\n",
              "  </div>\n",
              "\n",
              "\n",
              "<div id=\"df-ead56906-c9cb-4906-a6b4-fd619800ca13\">\n",
              "  <button class=\"colab-df-quickchart\" onclick=\"quickchart('df-ead56906-c9cb-4906-a6b4-fd619800ca13')\"\n",
              "            title=\"Suggest charts\"\n",
              "            style=\"display:none;\">\n",
              "\n",
              "<svg xmlns=\"http://www.w3.org/2000/svg\" height=\"24px\"viewBox=\"0 0 24 24\"\n",
              "     width=\"24px\">\n",
              "    <g>\n",
              "        <path d=\"M19 3H5c-1.1 0-2 .9-2 2v14c0 1.1.9 2 2 2h14c1.1 0 2-.9 2-2V5c0-1.1-.9-2-2-2zM9 17H7v-7h2v7zm4 0h-2V7h2v10zm4 0h-2v-4h2v4z\"/>\n",
              "    </g>\n",
              "</svg>\n",
              "  </button>\n",
              "\n",
              "<style>\n",
              "  .colab-df-quickchart {\n",
              "      --bg-color: #E8F0FE;\n",
              "      --fill-color: #1967D2;\n",
              "      --hover-bg-color: #E2EBFA;\n",
              "      --hover-fill-color: #174EA6;\n",
              "      --disabled-fill-color: #AAA;\n",
              "      --disabled-bg-color: #DDD;\n",
              "  }\n",
              "\n",
              "  [theme=dark] .colab-df-quickchart {\n",
              "      --bg-color: #3B4455;\n",
              "      --fill-color: #D2E3FC;\n",
              "      --hover-bg-color: #434B5C;\n",
              "      --hover-fill-color: #FFFFFF;\n",
              "      --disabled-bg-color: #3B4455;\n",
              "      --disabled-fill-color: #666;\n",
              "  }\n",
              "\n",
              "  .colab-df-quickchart {\n",
              "    background-color: var(--bg-color);\n",
              "    border: none;\n",
              "    border-radius: 50%;\n",
              "    cursor: pointer;\n",
              "    display: none;\n",
              "    fill: var(--fill-color);\n",
              "    height: 32px;\n",
              "    padding: 0;\n",
              "    width: 32px;\n",
              "  }\n",
              "\n",
              "  .colab-df-quickchart:hover {\n",
              "    background-color: var(--hover-bg-color);\n",
              "    box-shadow: 0 1px 2px rgba(60, 64, 67, 0.3), 0 1px 3px 1px rgba(60, 64, 67, 0.15);\n",
              "    fill: var(--button-hover-fill-color);\n",
              "  }\n",
              "\n",
              "  .colab-df-quickchart-complete:disabled,\n",
              "  .colab-df-quickchart-complete:disabled:hover {\n",
              "    background-color: var(--disabled-bg-color);\n",
              "    fill: var(--disabled-fill-color);\n",
              "    box-shadow: none;\n",
              "  }\n",
              "\n",
              "  .colab-df-spinner {\n",
              "    border: 2px solid var(--fill-color);\n",
              "    border-color: transparent;\n",
              "    border-bottom-color: var(--fill-color);\n",
              "    animation:\n",
              "      spin 1s steps(1) infinite;\n",
              "  }\n",
              "\n",
              "  @keyframes spin {\n",
              "    0% {\n",
              "      border-color: transparent;\n",
              "      border-bottom-color: var(--fill-color);\n",
              "      border-left-color: var(--fill-color);\n",
              "    }\n",
              "    20% {\n",
              "      border-color: transparent;\n",
              "      border-left-color: var(--fill-color);\n",
              "      border-top-color: var(--fill-color);\n",
              "    }\n",
              "    30% {\n",
              "      border-color: transparent;\n",
              "      border-left-color: var(--fill-color);\n",
              "      border-top-color: var(--fill-color);\n",
              "      border-right-color: var(--fill-color);\n",
              "    }\n",
              "    40% {\n",
              "      border-color: transparent;\n",
              "      border-right-color: var(--fill-color);\n",
              "      border-top-color: var(--fill-color);\n",
              "    }\n",
              "    60% {\n",
              "      border-color: transparent;\n",
              "      border-right-color: var(--fill-color);\n",
              "    }\n",
              "    80% {\n",
              "      border-color: transparent;\n",
              "      border-right-color: var(--fill-color);\n",
              "      border-bottom-color: var(--fill-color);\n",
              "    }\n",
              "    90% {\n",
              "      border-color: transparent;\n",
              "      border-bottom-color: var(--fill-color);\n",
              "    }\n",
              "  }\n",
              "</style>\n",
              "\n",
              "  <script>\n",
              "    async function quickchart(key) {\n",
              "      const quickchartButtonEl =\n",
              "        document.querySelector('#' + key + ' button');\n",
              "      quickchartButtonEl.disabled = true;  // To prevent multiple clicks.\n",
              "      quickchartButtonEl.classList.add('colab-df-spinner');\n",
              "      try {\n",
              "        const charts = await google.colab.kernel.invokeFunction(\n",
              "            'suggestCharts', [key], {});\n",
              "      } catch (error) {\n",
              "        console.error('Error during call to suggestCharts:', error);\n",
              "      }\n",
              "      quickchartButtonEl.classList.remove('colab-df-spinner');\n",
              "      quickchartButtonEl.classList.add('colab-df-quickchart-complete');\n",
              "    }\n",
              "    (() => {\n",
              "      let quickchartButtonEl =\n",
              "        document.querySelector('#df-ead56906-c9cb-4906-a6b4-fd619800ca13 button');\n",
              "      quickchartButtonEl.style.display =\n",
              "        google.colab.kernel.accessAllowed ? 'block' : 'none';\n",
              "    })();\n",
              "  </script>\n",
              "</div>\n",
              "    </div>\n",
              "  </div>\n"
            ],
            "application/vnd.google.colaboratory.intrinsic+json": {
              "type": "dataframe",
              "variable_name": "df",
              "summary": "{\n  \"name\": \"df\",\n  \"rows\": 93,\n  \"fields\": [\n    {\n      \"column\": \"date\",\n      \"properties\": {\n        \"dtype\": \"object\",\n        \"num_unique_values\": 31,\n        \"samples\": [\n          \"2018-10-28T00:00:00\",\n          \"2018-10-16T00:00:00\",\n          \"2018-10-24T00:00:00\"\n        ],\n        \"semantic_type\": \"\",\n        \"description\": \"\"\n      }\n    },\n    {\n      \"column\": \"datatype\",\n      \"properties\": {\n        \"dtype\": \"category\",\n        \"num_unique_values\": 3,\n        \"samples\": [\n          \"TAVG\",\n          \"TMAX\",\n          \"TMIN\"\n        ],\n        \"semantic_type\": \"\",\n        \"description\": \"\"\n      }\n    },\n    {\n      \"column\": \"station\",\n      \"properties\": {\n        \"dtype\": \"category\",\n        \"num_unique_values\": 1,\n        \"samples\": [\n          \"GHCND:USW00014732\"\n        ],\n        \"semantic_type\": \"\",\n        \"description\": \"\"\n      }\n    },\n    {\n      \"column\": \"attributes\",\n      \"properties\": {\n        \"dtype\": \"category\",\n        \"num_unique_values\": 2,\n        \"samples\": [\n          \",,W,2400\"\n        ],\n        \"semantic_type\": \"\",\n        \"description\": \"\"\n      }\n    },\n    {\n      \"column\": \"value\",\n      \"properties\": {\n        \"dtype\": \"number\",\n        \"std\": 6.133703326950107,\n        \"min\": 5.6,\n        \"max\": 27.8,\n        \"num_unique_values\": 57,\n        \"samples\": [\n          21.2\n        ],\n        \"semantic_type\": \"\",\n        \"description\": \"\"\n      }\n    }\n  ]\n}"
            }
          },
          "metadata": {},
          "execution_count": 99
        }
      ]
    },
    {
      "cell_type": "markdown",
      "source": [
        "We should check we got what we wanted: 31 entries for TAVG, TMAX, and TMIN (1 per day):"
      ],
      "metadata": {
        "id": "dlZvt74VaOaQ"
      }
    },
    {
      "cell_type": "code",
      "source": [
        "df.datatype.value_counts()"
      ],
      "metadata": {
        "colab": {
          "base_uri": "https://localhost:8080/"
        },
        "id": "JWuccKnrWY2h",
        "outputId": "3aeebf89-7213-4f08-90b7-61f6719f60e9"
      },
      "execution_count": 100,
      "outputs": [
        {
          "output_type": "execute_result",
          "data": {
            "text/plain": [
              "TAVG    31\n",
              "TMAX    31\n",
              "TMIN    31\n",
              "Name: datatype, dtype: int64"
            ]
          },
          "metadata": {},
          "execution_count": 100
        }
      ]
    },
    {
      "cell_type": "code",
      "source": [
        "from google.colab import drive\n",
        "drive.mount('/content/drive')"
      ],
      "metadata": {
        "colab": {
          "base_uri": "https://localhost:8080/"
        },
        "id": "aUMZEA45aT-b",
        "outputId": "a4e652ab-0c77-448f-b74a-c86263f38d88"
      },
      "execution_count": 101,
      "outputs": [
        {
          "output_type": "stream",
          "name": "stdout",
          "text": [
            "Drive already mounted at /content/drive; to attempt to forcibly remount, call drive.mount(\"/content/drive\", force_remount=True).\n"
          ]
        }
      ]
    },
    {
      "cell_type": "code",
      "source": [
        "df.to_csv('sample_data/nyc_temps.csv', index=False)"
      ],
      "metadata": {
        "id": "uylWfravWqvh"
      },
      "execution_count": 102,
      "outputs": []
    },
    {
      "cell_type": "code",
      "source": [],
      "metadata": {
        "id": "YInA1vLFebve"
      },
      "execution_count": 102,
      "outputs": []
    }
  ]
}